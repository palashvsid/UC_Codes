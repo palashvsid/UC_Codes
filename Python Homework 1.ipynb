{
 "cells": [
  {
   "cell_type": "code",
   "execution_count": 2,
   "metadata": {
    "collapsed": false
   },
   "outputs": [
    {
     "name": "stdout",
     "output_type": "stream",
     "text": [
      "*** Introductory Examples for the NLTK Book ***\n",
      "Loading text1, ..., text9 and sent1, ..., sent9\n",
      "Type the name of the text or sentence to view it.\n",
      "Type: 'texts()' or 'sents()' to list the materials.\n",
      "text1: Moby Dick by Herman Melville 1851\n",
      "text2: Sense and Sensibility by Jane Austen 1811\n",
      "text3: The Book of Genesis\n",
      "text4: Inaugural Address Corpus\n",
      "text5: Chat Corpus\n",
      "text6: Monty Python and the Holy Grail\n",
      "text7: Wall Street Journal\n",
      "text8: Personals Corpus\n",
      "text9: The Man Who Was Thursday by G . K . Chesterton 1908\n"
     ]
    }
   ],
   "source": [
    "import pandoc\n",
    "import nltk\n",
    "from nltk.book import *"
   ]
  },
  {
   "cell_type": "markdown",
   "metadata": {},
   "source": [
    "\n",
    "\n",
    "\n",
    "# Questions\n",
    "========================================================================================================================"
   ]
  },
  {
   "cell_type": "markdown",
   "metadata": {},
   "source": [
    "<br>\n",
    "### Question 1 (1-18)\n",
    "◑ Using list addition, and the set and sorted operations, compute the vocabulary of the sentences sent1 ... sent8."
   ]
  },
  {
   "cell_type": "code",
   "execution_count": 3,
   "metadata": {
    "collapsed": false
   },
   "outputs": [
    {
     "name": "stdout",
     "output_type": "stream",
     "text": [
      "['!', ',', '-', '.', '1', '25', '29', '61', ':', 'ARTHUR', 'Call', 'Citizens', 'Dashwood', 'Fellow', 'God', 'House', 'I', 'In', 'Ishmael', 'JOIN', 'KING', 'MALE', 'Nov.', 'PMing', 'Pierre', 'Representatives', 'SCENE', 'SEXY', 'Senate', 'Sussex', 'The', 'Vinken', 'Whoa', '[', ']', 'a', 'and', 'as', 'attrac', 'been', 'beginning', 'board', 'clop', 'created', 'director', 'discreet', 'earth', 'encounters', 'family', 'for', 'had', 'have', 'heaven', 'in', 'join', 'lady', 'lol', 'long', 'me', 'nonexecutive', 'of', 'old', 'older', 'people', 'problem', 'seeks', 'settled', 'single', 'the', 'there', 'to', 'will', 'wind', 'with', 'years']\n"
     ]
    }
   ],
   "source": [
    "sentence_vocabulary = sorted(set(sent1+sent2+sent3+sent4+sent5+sent6+sent7+sent8))\n",
    "print(sentence_vocabulary)"
   ]
  },
  {
   "cell_type": "markdown",
   "metadata": {},
   "source": [
    "<br>\n",
    "### Question 2 (1-19)\n",
    "◑ What is the difference between the following two lines? Which one will give a larger value? Will this be the case for other texts?\n",
    "\n",
    "> sorted(set(w.lower() for w in text1))\n",
    "\n",
    "> sorted(w.lower() for w in set(text1))"
   ]
  },
  {
   "cell_type": "code",
   "execution_count": 4,
   "metadata": {
    "collapsed": false
   },
   "outputs": [
    {
     "name": "stdout",
     "output_type": "stream",
     "text": [
      "Case 1:  17231\n",
      "Case 2:  19317\n",
      "Case 2 will always give more words in the vocabulary because in this case we are using 'lower' function outside of the set 'function'. This will result in double counting of words, hence, resulting in more words.\n"
     ]
    }
   ],
   "source": [
    "print(\"Case 1: \", len(sorted(set(w.lower() for w in text1))))\n",
    "print(\"Case 2: \", len(sorted(w.lower() for w in set(text1))))\n",
    "print(\"Case 2 will always give more words in the vocabulary because in this case we are using 'lower' function outside of the set 'function'. This will result in double counting of words, hence, resulting in more words.\")"
   ]
  },
  {
   "cell_type": "markdown",
   "metadata": {},
   "source": [
    "<br>\n",
    "### Question 3 (1-20)\n",
    "◑ What is the difference between the following two tests: w.isupper() and not w.islower()?"
   ]
  },
  {
   "cell_type": "code",
   "execution_count": 5,
   "metadata": {
    "collapsed": false
   },
   "outputs": [
    {
     "name": "stdout",
     "output_type": "stream",
     "text": [
      "In the first case, we are checking for words which are all uppercase letters while in the second case, we are checking for words which are not all lowercase letters. Hence, in first case, only words such as 'JAMES' and 'A' will be counted; while in the second case, words, numbers and special characters such as 'JAMES', 'James', 'A', 13, '*' will also be counted.\n"
     ]
    }
   ],
   "source": [
    "print(\"In the first case, we are checking for words which are all uppercase letters while in the second case, we are checking for words which are not all lowercase letters. Hence, in first case, only words such as 'JAMES' and 'A' will be counted; while in the second case, words, numbers and special characters such as 'JAMES', 'James', 'A', 13, '*' will also be counted.\")"
   ]
  },
  {
   "cell_type": "markdown",
   "metadata": {},
   "source": [
    "<br>\n",
    "### Question 4 (1-21)\n",
    "◑ Write the slice expression that extracts the last two words of text2."
   ]
  },
  {
   "cell_type": "code",
   "execution_count": 6,
   "metadata": {
    "collapsed": false
   },
   "outputs": [
    {
     "name": "stdout",
     "output_type": "stream",
     "text": [
      "['THE', 'END']\n"
     ]
    }
   ],
   "source": [
    "last_two_words = text2[-2:]\n",
    "print(last_two_words)"
   ]
  },
  {
   "cell_type": "markdown",
   "metadata": {},
   "source": [
    "<br>\n",
    "### Question 5 (1-22)\n",
    "◑ Find all the four-letter words in the Chat Corpus (text5). With the help of a frequency distribution (FreqDist), show these words in decreasing order of frequency."
   ]
  },
  {
   "cell_type": "code",
   "execution_count": 9,
   "metadata": {
    "collapsed": false
   },
   "outputs": [
    {
     "data": {
      "text/plain": [
       "[('JOIN', 1021),\n",
       " ('PART', 1016),\n",
       " ('that', 274),\n",
       " ('what', 183),\n",
       " ('here', 181),\n",
       " ('have', 164),\n",
       " ('like', 156),\n",
       " ('with', 152),\n",
       " ('chat', 142),\n",
       " ('your', 137),\n",
       " ('good', 130),\n",
       " ('just', 125),\n",
       " ('lmao', 107),\n",
       " ('know', 103),\n",
       " ('room', 98),\n",
       " ('from', 92),\n",
       " ('this', 86),\n",
       " ('well', 81),\n",
       " ('back', 78),\n",
       " ('hiya', 78),\n",
       " ('they', 77),\n",
       " ('dont', 75),\n",
       " ('yeah', 75),\n",
       " ('want', 71),\n",
       " ('love', 60),\n",
       " ('guys', 58),\n",
       " ('some', 58),\n",
       " ('been', 57),\n",
       " ('talk', 56),\n",
       " ('nice', 52),\n",
       " ('time', 50),\n",
       " ('when', 48),\n",
       " ('haha', 44),\n",
       " ('make', 44),\n",
       " ('girl', 43),\n",
       " ('need', 43),\n",
       " ('U122', 42),\n",
       " ('MODE', 41),\n",
       " ('much', 40),\n",
       " ('then', 40),\n",
       " ('will', 40),\n",
       " ('over', 39),\n",
       " ('were', 38),\n",
       " ('work', 38),\n",
       " ('take', 37),\n",
       " ('U115', 36),\n",
       " ('U121', 36),\n",
       " ('song', 36),\n",
       " ('U105', 35),\n",
       " ('U156', 35)]"
      ]
     },
     "execution_count": 9,
     "metadata": {},
     "output_type": "execute_result"
    }
   ],
   "source": [
    "four_letter_words = sorted(w for w in text5 if len(w) == 4 and w.isalnum())\n",
    "freq = FreqDist(four_letter_words)\n",
    "freq.most_common(50)"
   ]
  },
  {
   "cell_type": "markdown",
   "metadata": {},
   "source": [
    "<br>\n",
    "### Question 6 (1-24)\n",
    "◑ Write expressions for finding all words in text6 that meet the conditions listed below. The result should be in the form of a list of words: ['word1', 'word2', ...].\n",
    "\n",
    "1. Ending in ize\n",
    "2. Containing the letter z\n",
    "3. Containing the sequence of letters pt\n",
    "4. Having all lowercase letters except for an initial capital (i.e., titlecase)"
   ]
  },
  {
   "cell_type": "code",
   "execution_count": 10,
   "metadata": {
    "collapsed": false
   },
   "outputs": [
    {
     "name": "stdout",
     "output_type": "stream",
     "text": [
      "I have found all words that meet any of the conditions above as no words satisfied case 1 itself.\n"
     ]
    },
    {
     "data": {
      "text/plain": [
       "['A',\n",
       " 'Aaaaaaaaah',\n",
       " 'Aaaaaaaah',\n",
       " 'Aaaaaah',\n",
       " 'Aaaah',\n",
       " 'Aaaaugh',\n",
       " 'Aaagh',\n",
       " 'Aaah',\n",
       " 'Aaauggh',\n",
       " 'Aaaugh',\n",
       " 'Aaauugh',\n",
       " 'Aagh',\n",
       " 'Aah',\n",
       " 'Aauuggghhh',\n",
       " 'Aauuugh',\n",
       " 'Aauuuuugh',\n",
       " 'Aauuuves',\n",
       " 'Action',\n",
       " 'Actually',\n",
       " 'African',\n",
       " 'Ages',\n",
       " 'Aggh',\n",
       " 'Agh',\n",
       " 'Ah',\n",
       " 'Ahh',\n",
       " 'Alice',\n",
       " 'All',\n",
       " 'Allo',\n",
       " 'Almighty',\n",
       " 'Alright',\n",
       " 'Am',\n",
       " 'Amen',\n",
       " 'An',\n",
       " 'Anarcho',\n",
       " 'And',\n",
       " 'Angnor',\n",
       " 'Anthrax',\n",
       " 'Antioch',\n",
       " 'Anybody',\n",
       " 'Anyway',\n",
       " 'Apples',\n",
       " 'Aramaic',\n",
       " 'Are',\n",
       " 'Arimathea',\n",
       " 'Armaments',\n",
       " 'Arthur',\n",
       " 'As',\n",
       " 'Ask',\n",
       " 'Assyria',\n",
       " 'At']"
      ]
     },
     "execution_count": 10,
     "metadata": {},
     "output_type": "execute_result"
    }
   ],
   "source": [
    "print (\"I have found all words that meet any of the conditions above as no words satisfied case 1 itself.\")\n",
    "conditional_set = sorted(w for w in set(text6) if w.endswith('ize') or 'z' in w or 'pt' in w or w.istitle())\n",
    "conditional_set[:50]"
   ]
  },
  {
   "cell_type": "markdown",
   "metadata": {},
   "source": [
    "<br>\n",
    "### Question 7 (1-25)\n",
    "◑ Define sent to be the list of words ['she', 'sells', 'sea', 'shells', 'by', 'the', 'sea', 'shore']. Now write code to perform the following tasks:\n",
    "\n",
    "1. Print all words beginning with sh\n",
    "2. Print all words longer than four characters"
   ]
  },
  {
   "cell_type": "code",
   "execution_count": 11,
   "metadata": {
    "collapsed": false
   },
   "outputs": [
    {
     "name": "stdout",
     "output_type": "stream",
     "text": [
      "['she', 'shells', 'shore']\n",
      "['sells', 'shells', 'shore']\n"
     ]
    }
   ],
   "source": [
    "sent = ['she', 'sells', 'sea', 'shells', 'by', 'the', 'sea', 'shore']\n",
    "print(sorted(w for w in sent if w.startswith('sh')))\n",
    "\n",
    "print(sorted(w for w in sent if len(w) > 4 ))"
   ]
  },
  {
   "cell_type": "markdown",
   "metadata": {},
   "source": [
    "<br>\n",
    "### Question 8 (1-26)\n",
    "◑ What does the following Python code do?  sum(len(w) for w in text1) Can you use it to work out the average word length of a text?"
   ]
  },
  {
   "cell_type": "code",
   "execution_count": 12,
   "metadata": {
    "collapsed": false
   },
   "outputs": [
    {
     "name": "stdout",
     "output_type": "stream",
     "text": [
      "Total number of letters: 999044\n",
      "Total number of words: 260819\n",
      "Average word length: 3.830411128023649\n",
      "The given code calculates the total number of letters in the text. Since dividing this by the number of words will give us the average word length of a text, we can use it to calculate the average word length of the text. HOwever, we need to keep in mind that this direct calculation also includes punctuation and numbers, which will skew the average word length.\n"
     ]
    }
   ],
   "source": [
    "print(\"Total number of letters:\", sum(len(w) for w in text1))\n",
    "print(\"Total number of words:\", len(text1))\n",
    "print(\"Average word length:\", sum(len(w) for w in text1)/len(text1))\n",
    "\n",
    "print(\"The given code calculates the total number of letters in the text. Since dividing this by the number of words will give us the average word length of a text, we can use it to calculate the average word length of the text. HOwever, we need to keep in mind that this direct calculation also includes punctuation and numbers, which will skew the average word length.\")"
   ]
  },
  {
   "cell_type": "markdown",
   "metadata": {},
   "source": [
    "<br>\n",
    "### Question 9 (1-27)\n",
    "◑ Define a function called vocab_size(text) that has a single parameter for the text, and which returns the vocabulary size of the text."
   ]
  },
  {
   "cell_type": "code",
   "execution_count": 13,
   "metadata": {
    "collapsed": false
   },
   "outputs": [
    {
     "name": "stdout",
     "output_type": "stream",
     "text": [
      "Here, I am also removing numbers and punctuation from the vocabulary.\n"
     ]
    },
    {
     "data": {
      "text/plain": [
       "16948"
      ]
     },
     "execution_count": 13,
     "metadata": {},
     "output_type": "execute_result"
    }
   ],
   "source": [
    "print(\"Here, I am also removing numbers and punctuation from the vocabulary.\")\n",
    "\n",
    "def vocab_size(text):\n",
    "    return len(set(word.lower() for word in text if word.isalpha()))\n",
    "    \n",
    "vocab_size(text1)"
   ]
  },
  {
   "cell_type": "markdown",
   "metadata": {},
   "source": [
    "<br>\n",
    "### Question 10 (1-28)\n",
    "◑ Define a function percent(word, text) that calculates how often a given word occurs in a text, and expresses the result as a percentage."
   ]
  },
  {
   "cell_type": "code",
   "execution_count": 14,
   "metadata": {
    "collapsed": false
   },
   "outputs": [
    {
     "data": {
      "text/plain": [
       "'0.0552%'"
      ]
     },
     "execution_count": 14,
     "metadata": {},
     "output_type": "execute_result"
    }
   ],
   "source": [
    "def percent(word, text):\n",
    "    counter = 0\n",
    "    for w in text:\n",
    "        if w==word:\n",
    "            counter+=1\n",
    "    return str(round(counter/len(text)*100, 4)) + \"%\"\n",
    "\n",
    "percent(\"once\", text1)"
   ]
  }
 ],
 "metadata": {
  "kernelspec": {
   "display_name": "Python 3",
   "language": "python",
   "name": "python3"
  },
  "language_info": {
   "codemirror_mode": {
    "name": "ipython",
    "version": 3
   },
   "file_extension": ".py",
   "mimetype": "text/x-python",
   "name": "python",
   "nbconvert_exporter": "python",
   "pygments_lexer": "ipython3",
   "version": "3.6.0"
  }
 },
 "nbformat": 4,
 "nbformat_minor": 2
}
