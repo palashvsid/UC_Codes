{
 "cells": [
  {
   "cell_type": "markdown",
   "metadata": {},
   "source": [
    "# Text Mining with Python: Homework 4"
   ]
  },
  {
   "cell_type": "code",
   "execution_count": 33,
   "metadata": {
    "collapsed": false
   },
   "outputs": [],
   "source": [
    "import nltk\n",
    "from nltk.book import *\n",
    "from nltk.corpus import gutenberg\n",
    "from nltk import word_tokenize\n",
    "from nltk.corpus import gutenberg\n",
    "import re\n",
    "from urllib import request\n",
    "import random\n",
    "from nltk.corpus import wordnet as wn\n",
    "from operator import itemgetter\n"
   ]
  },
  {
   "cell_type": "markdown",
   "metadata": {},
   "source": [
    "\n",
    "\n",
    "\n",
    "# Questions\n",
    "========================================================================================================================"
   ]
  },
  {
   "cell_type": "markdown",
   "metadata": {},
   "source": [
    "\n",
    "### Question 1 (4-13)\n",
    "\n",
    "◑ Write code to initialize a two-dimensional array of sets called word_vowels and process a list of words, adding each word to word_vowels[l][v] where l is the length of the word and v is the number of vowels it contains."
   ]
  },
  {
   "cell_type": "code",
   "execution_count": 34,
   "metadata": {
    "collapsed": false
   },
   "outputs": [
    {
     "data": {
      "text/plain": [
       "[[set(), set(), set(), set(), set(), set(), set(), set(), set()],\n",
       " ['to', set(), set(), set(), set(), set(), set(), set(), set()],\n",
       " ['put', set(), set(), set(), set(), set(), set(), set(), set()],\n",
       " ['list', 'like', set(), set(), set(), set(), set(), set(), set()],\n",
       " ['words', 'array', set(), set(), set(), set(), set(), set(), set()],\n",
       " [set(), set(), set(), set(), set(), set(), set(), set(), set()],\n",
       " [set(), set(), 'useless', set(), set(), set(), set(), set(), set()],\n",
       " [set(), set(), 'sentence', set(), set(), set(), set(), set(), set()],\n",
       " [set(), set(), 'extremely', set(), set(), set(), set(), set(), set()]]"
      ]
     },
     "execution_count": 34,
     "metadata": {},
     "output_type": "execute_result"
    }
   ],
   "source": [
    "words = [\"this\", \"is\", \"an\", \"extremely\", \"long\", \"array\", \"of\", \"useless\", \"words\", \"put\", \"together\", \"in\", \"list\", \"to\", \"look\", \"like\", \"sentence\"]\n",
    "l = max(len(w) for w in words)\n",
    "m, n = l,l\n",
    "word_vowels = [[set() for i in range(n)] for j in range(m)]\n",
    "for w in words:\n",
    "    l = len(w)-1\n",
    "    v = len([c for c in w if c.lower() in \"aeiou\"])-1\n",
    "    word_vowels[l][v] = w\n",
    "word_vowels"
   ]
  },
  {
   "cell_type": "markdown",
   "metadata": {},
   "source": [
    "\n",
    "### Question 2 (4-15)\n",
    "◑ Write a program that takes a sentence expressed as a single string, splits it and counts up the words. Get it to print out each word and the word's frequency, one per line, in alphabetical order."
   ]
  },
  {
   "cell_type": "code",
   "execution_count": 35,
   "metadata": {
    "collapsed": false
   },
   "outputs": [
    {
     "data": {
      "text/plain": [
       "[('a', 3),\n",
       " ('list', 2),\n",
       " ('very', 2),\n",
       " ('in', 1),\n",
       " ('is', 1),\n",
       " ('like', 1),\n",
       " ('long', 1),\n",
       " ('look', 1),\n",
       " ('of', 1),\n",
       " ('put', 1),\n",
       " ('sentence', 1),\n",
       " ('this', 1),\n",
       " ('to', 1),\n",
       " ('together', 1),\n",
       " ('useless', 1),\n",
       " ('words', 1)]"
      ]
     },
     "execution_count": 35,
     "metadata": {},
     "output_type": "execute_result"
    }
   ],
   "source": [
    "sentence= \"This is a very long list of very useless words put together in a list to look like a sentence.\"\n",
    "words = sorted(word_tokenize(sentence.lower()))\n",
    "words = [s for s in words if s != '.' and s!= ',']\n",
    "\n",
    "FreqDist(words).most_common(len(words))"
   ]
  },
  {
   "cell_type": "markdown",
   "metadata": {},
   "source": [
    "\n",
    "### Question 3 (4-19)\n",
    "◑ Write a list comprehension that sorts a list of WordNet synsets for proximity to a given synset. For example, given the synsets minke_whale.n.01, orca.n.01, novel.n.01, and tortoise.n.01, sort them according to their  shortest_path_distance() from right_whale.n.01."
   ]
  },
  {
   "cell_type": "code",
   "execution_count": 36,
   "metadata": {
    "collapsed": false
   },
   "outputs": [
    {
     "data": {
      "text/plain": [
       "[Synset('tortoise.n.01'),\n",
       " Synset('lesser_rorqual.n.01'),\n",
       " Synset('killer_whale.n.01'),\n",
       " Synset('novel.n.01')]"
      ]
     },
     "execution_count": 36,
     "metadata": {},
     "output_type": "execute_result"
    }
   ],
   "source": [
    "list_o_synsets = [wn.synset('minke_whale.n.01'), wn.synset('orca.n.01'), wn.synset('novel.n.01'), wn.synset('tortoise.n.01')]\n",
    "[w[0] for w in sorted([(w,w.shortest_path_distance(wn.synset('tortoise.n.01'))) for w in list_o_synsets], key=itemgetter(1))]"
   ]
  },
  {
   "cell_type": "markdown",
   "metadata": {},
   "source": [
    "\n",
    "### Question 4 (4-20)\n",
    "◑ Write a function that takes a list of words (containing duplicates) and returns a list of words (with no duplicates) sorted by decreasing frequency. E.g. if the input list contained 10 instances of the word table and 9 instances of the word chair, then table would appear before chair in the output list."
   ]
  },
  {
   "cell_type": "code",
   "execution_count": 37,
   "metadata": {
    "collapsed": false
   },
   "outputs": [
    {
     "data": {
      "text/plain": [
       "['table', 'chair', 'closet', 'ottoman', 'bed', 'basket', 'shelf', 'crib']"
      ]
     },
     "execution_count": 37,
     "metadata": {},
     "output_type": "execute_result"
    }
   ],
   "source": [
    "\n",
    "def sort_frequency(list):\n",
    "    f= FreqDist(list)\n",
    "    new_list = []\n",
    "    for key in f:\n",
    "        new_list.append((key, f[key]))\n",
    "    return [w[0] for w in sorted(new_list, key=itemgetter(1), reverse=True)]\n",
    "\n",
    "words =[\"table\", \"chair\", \"table\", \"closet\", \"chair\", \"table\", \"ottoman\", \"chair\", \"closet\", \"table\", \"ottoman\", \"chair\", \"closet\", \"shelf\", \"ottoman\", \"chair\", \"shelf\", \"table\", \"shelf\", \"basket\", \"closet\", \"basket\", \"table\", \"ottoman\", \"closet\", \"chair\", \"closet\", \"table\", \"basket\", \"chair\", \"bed\", \"basket\", \"chair\", \"ottoman\", \"table\", \"closet\", \"bed\", \"closet\", \"table\", \"crib\", \"ottoman\", \"chair\", \"crib\", \"bed\", \"closet\", \"bed\", \"table\", \"bed\"]\n",
    "sort_frequency(words)"
   ]
  },
  {
   "cell_type": "markdown",
   "metadata": {},
   "source": [
    "\n",
    "### Question 5 (4-21)\n",
    "◑ Write a function that takes a text and a vocabulary as its arguments and returns the set of words that appear in the text but not in the vocabulary. Both arguments can be represented as lists of strings. Can you do this in a single line, using set.difference()?"
   ]
  },
  {
   "cell_type": "code",
   "execution_count": 38,
   "metadata": {
    "collapsed": false
   },
   "outputs": [
    {
     "data": {
      "text/plain": [
       "{'an', 'array', 'extremely', 'sentence', 'together', 'useless', 'words'}"
      ]
     },
     "execution_count": 38,
     "metadata": {},
     "output_type": "execute_result"
    }
   ],
   "source": [
    "def not_in_vocabulary(text, vocabulary):\n",
    "    return set(text).difference(set(vocabulary))\n",
    "\n",
    "text1 = [\"this\", \"is\", \"an\", \"an\", \"extremely\", \"long\", \"array\", \"of\", \"useless\", \"words\", \"put\", \"together\", \"in\", \"list\", \"to\", \"look\", \"like\", \"sentence\"]\n",
    "vocab1 = [\"this\", \"is\", \"long\", \"of\", \"put\", \"in\", \"list\", \"to\", \"look\", \"like\", \"president\", \"go\", \"simple\", \"complex\", \"no\"]\n",
    "\n",
    "not_in_vocabulary(text1, vocab1)"
   ]
  },
  {
   "cell_type": "markdown",
   "metadata": {},
   "source": [
    "\n",
    "### Question 6 (4-22)\n",
    "◑ Import the itemgetter() function from the operator module in Python's standard library (i.e. from operator import itemgetter). Create a list words containing several words. Now try calling: sorted(words, key=itemgetter(1)), and sorted(words, key=itemgetter(-1)). Explain what itemgetter() is doing."
   ]
  },
  {
   "cell_type": "code",
   "execution_count": 39,
   "metadata": {
    "collapsed": false
   },
   "outputs": [
    {
     "name": "stdout",
     "output_type": "stream",
     "text": [
      "\n",
      " ['an', 'array', 'extremely', 'in', 'is', 'like', 'list', 'long', 'look', 'of', 'put', 'sentence', 'this', 'to', 'together', 'useless', 'words']\n",
      "\n",
      " ['sentence', 'of', 'this', 'list', 'like', 'an', 'in', 'long', 'words', 'together', 'to', 'look', 'array', 'is', 'useless', 'put', 'extremely']\n",
      "\n",
      " ['like', 'sentence', 'of', 'long', 'look', 'an', 'in', 'to', 'together', 'this', 'is', 'useless', 'words', 'put', 'list', 'extremely', 'array']\n",
      "\n",
      " We can see from here that itemgetter that extracts the nth element from a list object, along with other iterable objects such as tuples. In this case, using sort and itemgetter() together allows us to sort the words on the basis of nth letter of each word. So in the case of sorted(words, key=itemgetter(1)), we will have the sorted the data on the basis of the 2nd letter of each word. And in the case of sorted(words, key=itemgetter(-1)), we would have sorted the data on the basis of the last letter of each word. We do need to be careful to have words with equal or greater number of letters than specified by the itemgetter() function to avoid 'index out of range' errors.\n"
     ]
    }
   ],
   "source": [
    "from operator import itemgetter\n",
    "\n",
    "words =[\"this\", \"is\", \"an\", \"extremely\", \"long\", \"array\", \"of\", \"useless\", \"words\", \"put\", \"together\", \"in\", \"list\", \"to\", \"look\", \"like\", \"sentence\"]\n",
    "\n",
    "print(\"\\n\", sorted(words))\n",
    "print(\"\\n\", sorted(words, key=itemgetter(1)))\n",
    "print(\"\\n\", sorted(words, key=itemgetter(-1)))\n",
    "print(\"\\n\",\"We can see from here that itemgetter that extracts the nth element from a list object, along with other iterable objects such as tuples. In this case, using sort and itemgetter() together allows us to sort the words on the basis of nth letter of each word. So in the case of sorted(words, key=itemgetter(1)), we will have the sorted the data on the basis of the 2nd letter of each word. And in the case of sorted(words, key=itemgetter(-1)), we would have sorted the data on the basis of the last letter of each word. We do need to be careful to have words with equal or greater number of letters than specified by the itemgetter() function to avoid 'index out of range' errors.\")"
   ]
  },
  {
   "cell_type": "markdown",
   "metadata": {},
   "source": [
    "\n",
    "### Question 7 (4-23)\n",
    "◑ Write a recursive function lookup(trie, key) that looks up a key in a trie, and returns the value it finds. Extend the function to return a word when it is uniquely determined by its prefix (e.g. vanguard is the only word that starts with vang-, so lookup(trie, 'vang') should return the same thing as lookup(trie, 'vanguard'))."
   ]
  },
  {
   "cell_type": "code",
   "execution_count": 40,
   "metadata": {
    "collapsed": false
   },
   "outputs": [],
   "source": [
    "#Creating a Trie:    \n",
    "def insert(trie, key, value):\n",
    "    if key:\n",
    "        first, rest = key[0], key[1:]\n",
    "        if first not in trie:\n",
    "            trie[first] = {}\n",
    "        insert(trie[first], rest, value)\n",
    "    else:\n",
    "        trie['value'] = value\n",
    "\n",
    "trie = {}\n",
    "insert(trie, 'chat', 'cat')\n",
    "insert(trie, 'chien', 'dog')\n",
    "insert(trie, 'chair', 'flesh')\n",
    "insert(trie, 'chic', 'stylish')\n",
    "insert(trie, 'van', 'vanderwaal')\n",
    "insert(trie, 'vang', 'vanguard')\n",
    "insert(trie, 'vanga', 'vangala')"
   ]
  },
  {
   "cell_type": "code",
   "execution_count": 41,
   "metadata": {
    "collapsed": false
   },
   "outputs": [
    {
     "data": {
      "text/plain": [
       "{'c': {'h': {'a': {'i': {'r': {'value': 'flesh'}}, 't': {'value': 'cat'}},\n",
       "   'i': {'c': {'value': 'stylish'}, 'e': {'n': {'value': 'dog'}}}}},\n",
       " 'v': {'a': {'n': {'g': {'a': {'value': 'vangala'}, 'value': 'vanguard'},\n",
       "    'value': 'vanderwaal'}}}}"
      ]
     },
     "execution_count": 41,
     "metadata": {},
     "output_type": "execute_result"
    }
   ],
   "source": [
    "trie"
   ]
  },
  {
   "cell_type": "code",
   "execution_count": 42,
   "metadata": {
    "collapsed": false
   },
   "outputs": [
    {
     "name": "stdout",
     "output_type": "stream",
     "text": [
      "vangala\n"
     ]
    }
   ],
   "source": [
    "def lookup(trie1, key):\n",
    "#This if statement with try/except tries to answer the 2nd part of the question\n",
    "    try:\n",
    "        if trie1[key]['value'].startswith(key):\n",
    "            print(trie1)\n",
    "    except:\n",
    "        pass\n",
    "    if len(key)!= 1:\n",
    "        lookup(trie1[key[0]], key[1:])\n",
    "    else:\n",
    "        a = trie1[key]['value']\n",
    "        print(a)\n",
    "\n",
    "lookup(trie, 'vanga')"
   ]
  }
 ],
 "metadata": {
  "kernelspec": {
   "display_name": "Python 3",
   "language": "python",
   "name": "python3"
  },
  "language_info": {
   "codemirror_mode": {
    "name": "ipython",
    "version": 3
   },
   "file_extension": ".py",
   "mimetype": "text/x-python",
   "name": "python",
   "nbconvert_exporter": "python",
   "pygments_lexer": "ipython3",
   "version": "3.6.0"
  }
 },
 "nbformat": 4,
 "nbformat_minor": 2
}
